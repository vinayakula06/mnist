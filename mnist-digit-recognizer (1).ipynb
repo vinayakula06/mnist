{
 "cells": [
  {
   "cell_type": "code",
   "execution_count": 1,
   "metadata": {
    "_cell_guid": "b1076dfc-b9ad-4769-8c92-a6c4dae69d19",
    "_uuid": "8f2839f25d086af736a60e9eeb907d3b93b6e0e5",
    "execution": {
     "iopub.execute_input": "2024-10-26T14:39:16.528992Z",
     "iopub.status.busy": "2024-10-26T14:39:16.528505Z",
     "iopub.status.idle": "2024-10-26T14:39:30.760508Z",
     "shell.execute_reply": "2024-10-26T14:39:30.759288Z",
     "shell.execute_reply.started": "2024-10-26T14:39:16.528947Z"
    },
    "trusted": true
   },
   "outputs": [],
   "source": [
    "# This Python 3 environment comes with many helpful analytics libraries installed\n",
    "# It is defined by the kaggle/python Docker image: https://github.com/kaggle/docker-python\n",
    "# For example, here's several helpful packages to load\n",
    "\n",
    "import numpy as np # linear algebra\n",
    "import pandas as pd # data processing, CSV file I/O (e.g. pd.read_csv)\n",
    "\n",
    "# Input data files are available in the read-only \"../input/\" directory\n",
    "# For example, running this (by clicking run or pressing Shift+Enter) will list all files under the input directory\n",
    "\n",
    "import os\n",
    "for dirname, _, filenames in os.walk('/kaggle/input'):\n",
    "    for filename in filenames:\n",
    "        print(os.path.join(dirname, filename))\n",
    "\n",
    "\n",
    "# You can write up to 20GB to the current directory (/kaggle/working/) that gets preserved as output when you create a version using \"Save & Run All\" \n",
    "# You can also write temporary files to /kaggle/temp/, but they won't be saved outside of the current session"
   ]
  },
  {
   "cell_type": "code",
   "execution_count": 2,
   "metadata": {
    "execution": {
     "iopub.execute_input": "2024-10-26T14:39:30.763361Z",
     "iopub.status.busy": "2024-10-26T14:39:30.762679Z",
     "iopub.status.idle": "2024-10-26T14:39:33.384983Z",
     "shell.execute_reply": "2024-10-26T14:39:33.383792Z",
     "shell.execute_reply.started": "2024-10-26T14:39:30.763319Z"
    },
    "trusted": true
   },
   "outputs": [],
   "source": [
    "import numpy as np\n",
    "import matplotlib.pyplot as plt\n",
    "import seaborn as sns\n",
    "import pandas as pd\n",
    "import torch"
   ]
  },
  {
   "cell_type": "code",
   "execution_count": 3,
   "metadata": {},
   "outputs": [],
   "source": [
    "train = pd.read_csv(r'C:\\Users\\saivi\\Downloads\\mnist\\train.csv')\n",
    "\n",
    "\n",
    "test = pd.read_csv(r'C:\\Users\\saivi\\Downloads\\mnist\\test.csv')"
   ]
  },
  {
   "cell_type": "code",
   "execution_count": 4,
   "metadata": {
    "execution": {
     "iopub.execute_input": "2024-10-26T14:39:38.980803Z",
     "iopub.status.busy": "2024-10-26T14:39:38.980337Z",
     "iopub.status.idle": "2024-10-26T14:39:39.068143Z",
     "shell.execute_reply": "2024-10-26T14:39:39.066807Z",
     "shell.execute_reply.started": "2024-10-26T14:39:38.980755Z"
    },
    "trusted": true
   },
   "outputs": [],
   "source": [
    "y_train = train['label']\n",
    "train.drop(columns=['label'], axis=1, inplace=True)"
   ]
  },
  {
   "cell_type": "code",
   "execution_count": 5,
   "metadata": {
    "execution": {
     "iopub.execute_input": "2024-10-26T14:39:39.070187Z",
     "iopub.status.busy": "2024-10-26T14:39:39.069804Z",
     "iopub.status.idle": "2024-10-26T14:39:40.107382Z",
     "shell.execute_reply": "2024-10-26T14:39:40.106180Z",
     "shell.execute_reply.started": "2024-10-26T14:39:39.070148Z"
    },
    "trusted": true
   },
   "outputs": [],
   "source": [
    "import torchvision.transforms as transforms\n",
    "transform = transforms.Compose([\n",
    "    transforms.Normalize((0.5,), (0.5,))\n",
    "])"
   ]
  },
  {
   "cell_type": "code",
   "execution_count": 6,
   "metadata": {
    "execution": {
     "iopub.execute_input": "2024-10-26T14:39:40.109860Z",
     "iopub.status.busy": "2024-10-26T14:39:40.109112Z",
     "iopub.status.idle": "2024-10-26T14:39:40.427058Z",
     "shell.execute_reply": "2024-10-26T14:39:40.425943Z",
     "shell.execute_reply.started": "2024-10-26T14:39:40.109790Z"
    },
    "trusted": true
   },
   "outputs": [],
   "source": [
    "from sklearn.model_selection import train_test_split\n",
    "X_train, X_CV, y_train, y_CV = train_test_split(train, y_train, test_size=0.2)"
   ]
  },
  {
   "cell_type": "code",
   "execution_count": 7,
   "metadata": {
    "execution": {
     "iopub.execute_input": "2024-10-26T14:39:40.428490Z",
     "iopub.status.busy": "2024-10-26T14:39:40.428149Z",
     "iopub.status.idle": "2024-10-26T14:39:40.588803Z",
     "shell.execute_reply": "2024-10-26T14:39:40.586963Z",
     "shell.execute_reply.started": "2024-10-26T14:39:40.428453Z"
    },
    "trusted": true
   },
   "outputs": [],
   "source": [
    "from torch.utils.data import Dataset, DataLoader\n",
    "import torch\n",
    "\n",
    "class CustomImageDataset(Dataset):\n",
    "    def __init__(self, data, label=None, transform=None):\n",
    "        self.data = torch.tensor(data.values, dtype=torch.float32).reshape(-1, 1, 28, 28)\n",
    "        if label is not None:\n",
    "            self.labels = torch.tensor(label.values, dtype=torch.int64)\n",
    "        else:\n",
    "            self.labels = None\n",
    "        self.transform = transform\n",
    "\n",
    "    def __len__(self):\n",
    "        return len(self.data)\n",
    "\n",
    "    def __getitem__(self, idx):\n",
    "        image = self.data[idx]\n",
    "        if self.transform:\n",
    "            image = self.transform(image)\n",
    "        if self.labels is not None:\n",
    "            label = self.labels[idx]\n",
    "            return image, label\n",
    "        return image\n",
    "\n",
    "# Example transformations\n",
    "transform = transforms.Compose([\n",
    "    transforms.Normalize((0.5,), (0.5,))\n",
    "])\n",
    "\n",
    "# Assuming 'X_train', 'X_CV', 'y_train', 'y_CV', and 'test' are defined DataFrames\n",
    "train_data = CustomImageDataset(data=X_train, label=y_train, transform=transform)\n",
    "validation_data = CustomImageDataset(data=X_CV, label=y_CV, transform=transform)\n",
    "test_data = CustomImageDataset(data=test, transform=transform)  # No labels for test data\n",
    "\n",
    "# Create DataLoaders\n",
    "train_loader = DataLoader(train_data, batch_size=64, shuffle=True)\n",
    "validation_loader = DataLoader(validation_data, batch_size=64, shuffle=True)\n",
    "test_loader = DataLoader(test_data, batch_size=64, shuffle=False)\n",
    "\n"
   ]
  },
  {
   "cell_type": "code",
   "execution_count": 8,
   "metadata": {
    "execution": {
     "iopub.execute_input": "2024-10-26T14:39:44.290742Z",
     "iopub.status.busy": "2024-10-26T14:39:44.289483Z",
     "iopub.status.idle": "2024-10-26T14:39:44.317892Z",
     "shell.execute_reply": "2024-10-26T14:39:44.316486Z",
     "shell.execute_reply.started": "2024-10-26T14:39:44.290682Z"
    },
    "trusted": true
   },
   "outputs": [],
   "source": [
    "import torch.nn as nn\n",
    "class LeNet5(nn.Module):\n",
    "    def __init__(self):\n",
    "        super(LeNet5, self).__init__()\n",
    "        self.conv1 = nn.Conv2d(1, 6, 5)\n",
    "        self.conv2 = nn.Conv2d(6, 16, 5)\n",
    "        self.fc1 = nn.Linear(16 * 4 * 4, 120)\n",
    "        self.fc2 = nn.Linear(120, 84)\n",
    "        self.fc3 = nn.Linear(84, 10)\n",
    "\n",
    "    def forward(self, x):\n",
    "        x = torch.tanh(self.conv1(x))\n",
    "        x = nn.functional.avg_pool2d(x, 2)\n",
    "        x = torch.tanh(self.conv2(x))\n",
    "        x = nn.functional.avg_pool2d(x, 2)\n",
    "        x = x.view(-1, 16 * 4 * 4)\n",
    "        x = torch.tanh(self.fc1(x))\n",
    "        x = torch.tanh(self.fc2(x))\n",
    "        x = self.fc3(x)\n",
    "        return x\n",
    "\n",
    "model = LeNet5()\n",
    "error = nn.CrossEntropyLoss()\n",
    "\n",
    "# SGD Optimizer\n",
    "learning_rate = 0.1\n",
    "optimizer = torch.optim.SGD(model.parameters(), lr=learning_rate)\n"
   ]
  },
  {
   "cell_type": "code",
   "execution_count": 9,
   "metadata": {
    "execution": {
     "iopub.execute_input": "2024-10-26T14:39:46.468585Z",
     "iopub.status.busy": "2024-10-26T14:39:46.468177Z",
     "iopub.status.idle": "2024-10-26T14:43:40.150662Z",
     "shell.execute_reply": "2024-10-26T14:43:40.149533Z",
     "shell.execute_reply.started": "2024-10-26T14:39:46.468548Z"
    },
    "trusted": true
   },
   "outputs": [
    {
     "name": "stdout",
     "output_type": "stream",
     "text": [
      "Iteration: 500  Loss: 0.3349838852882385  Accuracy: 95.27380952380952%\n",
      "Iteration: 1000  Loss: 0.12121649086475372  Accuracy: 96.75%\n",
      "Iteration: 1500  Loss: 0.08380039036273956  Accuracy: 97.60714285714286%\n",
      "Iteration: 2000  Loss: 0.03573911637067795  Accuracy: 97.36904761904762%\n",
      "Iteration: 2500  Loss: 0.09958624839782715  Accuracy: 97.57142857142857%\n",
      "Iteration: 3000  Loss: 0.01832580752670765  Accuracy: 98.16666666666667%\n",
      "Iteration: 3500  Loss: 0.032265860587358475  Accuracy: 97.83333333333333%\n",
      "Iteration: 4000  Loss: 0.024522319436073303  Accuracy: 98.3452380952381%\n",
      "Iteration: 4500  Loss: 0.062137749046087265  Accuracy: 98.28571428571429%\n",
      "Iteration: 5000  Loss: 0.013639077544212341  Accuracy: 98.3452380952381%\n"
     ]
    }
   ],
   "source": [
    "import torch.optim as optim\n",
    "# Check for CUDA (GPU) availability\n",
    "device = torch.device(\"cuda\" if torch.cuda.is_available() else \"cpu\")\n",
    "model.to(device)\n",
    "\n",
    "# Training variables\n",
    "count = 0\n",
    "loss_list = []\n",
    "iteration_list = []\n",
    "accuracy_list = []\n",
    "\n",
    "# Specify the number of epochs\n",
    "num_epochs = 10\n",
    "\n",
    "for epoch in range(num_epochs):\n",
    "    for batch_idx, (data, target) in enumerate(train_loader):\n",
    "        \n",
    "        # Move tensors to the configured device\n",
    "        data, target = data.to(device), target.to(device)\n",
    "        \n",
    "        # Clear gradients\n",
    "        optimizer.zero_grad()\n",
    "        \n",
    "        # Forward propagation\n",
    "        outputs = model(data)\n",
    "        \n",
    "        # Calculate loss\n",
    "        loss = error(outputs, target)\n",
    "        \n",
    "        # Backpropagation\n",
    "        loss.backward()\n",
    "        \n",
    "        # Update parameters\n",
    "        optimizer.step()\n",
    "        \n",
    "        count += 1\n",
    "        \n",
    "        if count % 50 == 0:\n",
    "            # Calculate Accuracy on validation data\n",
    "            correct = 0\n",
    "            total = 0\n",
    "            with torch.no_grad():\n",
    "                for val_images, val_labels in validation_loader:\n",
    "                    val_images, val_labels = val_images.to(device), val_labels.to(device)\n",
    "                    outputs = model(val_images)\n",
    "                    predicted = torch.max(outputs.data, 1)[1]\n",
    "                    total += len(val_labels)\n",
    "                    correct += (predicted == val_labels).sum().item()\n",
    "                \n",
    "            accuracy = 100 * correct / float(total)\n",
    "            \n",
    "            # Store loss and iteration values\n",
    "            loss_list.append(loss.item())\n",
    "            iteration_list.append(count)\n",
    "            accuracy_list.append(accuracy)\n",
    "            \n",
    "            if count % 500 == 0:\n",
    "                # Print Loss and Accuracy\n",
    "                print(f\"Iteration: {count}  Loss: {loss.item()}  Accuracy: {accuracy}%\")\n"
   ]
  },
  {
   "cell_type": "code",
   "execution_count": 10,
   "metadata": {
    "execution": {
     "iopub.execute_input": "2024-10-26T14:44:36.718608Z",
     "iopub.status.busy": "2024-10-26T14:44:36.717573Z",
     "iopub.status.idle": "2024-10-26T14:44:40.971872Z",
     "shell.execute_reply": "2024-10-26T14:44:40.970663Z",
     "shell.execute_reply.started": "2024-10-26T14:44:36.718558Z"
    },
    "trusted": true
   },
   "outputs": [],
   "source": [
    "model.eval()\n",
    "test_outputs = []\n",
    "\n",
    "with torch.no_grad():\n",
    "    for data in test_loader:\n",
    "        if data is not None:\n",
    "            data = data.to(device)\n",
    "            outputs = model(data)\n",
    "            _, predicted = torch.max(outputs, 1)\n",
    "            test_outputs.extend(predicted.cpu().numpy())\n",
    "\n"
   ]
  },
  {
   "cell_type": "code",
   "execution_count": 11,
   "metadata": {
    "execution": {
     "iopub.execute_input": "2024-10-26T14:44:49.109745Z",
     "iopub.status.busy": "2024-10-26T14:44:49.108813Z",
     "iopub.status.idle": "2024-10-26T14:44:49.227988Z",
     "shell.execute_reply": "2024-10-26T14:44:49.226935Z",
     "shell.execute_reply.started": "2024-10-26T14:44:49.109699Z"
    },
    "trusted": true
   },
   "outputs": [],
   "source": [
    "test_predictions = pd.DataFrame(test_outputs, columns=['Label'])\n",
    "test_predictions['ImageId'] = test_predictions.index + 1\n",
    "test_predictions = test_predictions[['ImageId', 'Label']]"
   ]
  },
  {
   "cell_type": "code",
   "execution_count": 12,
   "metadata": {
    "execution": {
     "iopub.execute_input": "2024-10-26T14:45:18.590852Z",
     "iopub.status.busy": "2024-10-26T14:45:18.589839Z",
     "iopub.status.idle": "2024-10-26T14:45:18.644240Z",
     "shell.execute_reply": "2024-10-26T14:45:18.642959Z",
     "shell.execute_reply.started": "2024-10-26T14:45:18.590788Z"
    },
    "trusted": true
   },
   "outputs": [],
   "source": [
    "test_predictions.to_csv('submission.csv', index=False)"
   ]
  },
  {
   "cell_type": "code",
   "execution_count": 13,
   "metadata": {},
   "outputs": [],
   "source": [
    "torch.save(model.state_dict(), \"mnist_digit_recognizer.pth\")\n"
   ]
  }
 ],
 "metadata": {
  "kaggle": {
   "accelerator": "none",
   "dataSources": [
    {
     "databundleVersionId": 861823,
     "sourceId": 3004,
     "sourceType": "competition"
    }
   ],
   "dockerImageVersionId": 30786,
   "isGpuEnabled": false,
   "isInternetEnabled": true,
   "language": "python",
   "sourceType": "notebook"
  },
  "kernelspec": {
   "display_name": "Python 3",
   "language": "python",
   "name": "python3"
  },
  "language_info": {
   "codemirror_mode": {
    "name": "ipython",
    "version": 3
   },
   "file_extension": ".py",
   "mimetype": "text/x-python",
   "name": "python",
   "nbconvert_exporter": "python",
   "pygments_lexer": "ipython3",
   "version": "3.11.9"
  }
 },
 "nbformat": 4,
 "nbformat_minor": 4
}
